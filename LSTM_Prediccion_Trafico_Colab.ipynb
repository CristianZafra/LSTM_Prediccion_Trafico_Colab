{
 "cells": [
  {
   "cell_type": "markdown",
   "id": "58947efc",
   "metadata": {},
   "source": [
    "# 🚦 Predicción de Tráfico con Redes Neuronales LSTM\n",
    "Este cuaderno aplica un modelo LSTM (Long Short-Term Memory) para predecir el conteo de vehículos a partir de datos históricos por hora en un segmento vial."
   ]
  },
  {
   "cell_type": "markdown",
   "id": "3b181804",
   "metadata": {},
   "source": [
    "## 📚 Paso 1: Importar librerías necesarias"
   ]
  },
  {
   "cell_type": "code",
   "execution_count": null,
   "id": "0638d055",
   "metadata": {},
   "outputs": [],
   "source": [
    "import pandas as pd\n",
    "import numpy as np\n",
    "import matplotlib.pyplot as plt\n",
    "import seaborn as sns\n",
    "from sklearn.preprocessing import MinMaxScaler\n",
    "from sklearn.metrics import mean_squared_error\n",
    "from tensorflow.keras.models import Sequential\n",
    "from tensorflow.keras.layers import LSTM, Dense\n",
    "from tensorflow.keras.callbacks import EarlyStopping"
   ]
  },
  {
   "cell_type": "markdown",
   "id": "54109e6b",
   "metadata": {},
   "source": [
    "## 📂 Paso 2: Cargar archivo de datos de tráfico (CSV)"
   ]
  },
  {
   "cell_type": "code",
   "execution_count": null,
   "id": "34542524",
   "metadata": {},
   "outputs": [],
   "source": [
    "from google.colab import files\n",
    "import io\n",
    "\n",
    "uploaded = files.upload()\n",
    "for filename in uploaded:\n",
    "    df = pd.read_csv(io.BytesIO(uploaded[filename]), parse_dates=['fecha_hora'])\n",
    "    break\n",
    "df.head()"
   ]
  },
  {
   "cell_type": "markdown",
   "id": "568a81fb",
   "metadata": {},
   "source": [
    "## 📊 Paso 3: Visualización del conteo de vehículos"
   ]
  },
  {
   "cell_type": "code",
   "execution_count": null,
   "id": "619357cd",
   "metadata": {},
   "outputs": [],
   "source": [
    "plt.figure(figsize=(14, 5))\n",
    "plt.plot(df['fecha_hora'], df['conteo_vehiculos'], label='Conteo de vehículos')\n",
    "plt.xlabel('Fecha y hora')\n",
    "plt.ylabel('Número de vehículos')\n",
    "plt.title('Tráfico por hora')\n",
    "plt.grid(True)\n",
    "plt.tight_layout()\n",
    "plt.show()"
   ]
  },
  {
   "cell_type": "markdown",
   "id": "c5db5d92",
   "metadata": {},
   "source": [
    "## ⚙️ Paso 4: Preparar datos para LSTM"
   ]
  },
  {
   "cell_type": "code",
   "execution_count": null,
   "id": "d6c356e1",
   "metadata": {},
   "outputs": [],
   "source": [
    "# Reordenar y escalar\n",
    "data = df[['conteo_vehiculos']].values\n",
    "scaler = MinMaxScaler()\n",
    "scaled_data = scaler.fit_transform(data)\n",
    "\n",
    "# Crear secuencias para LSTM\n",
    "def crear_secuencias(datos, pasos):\n",
    "    X, y = [], []\n",
    "    for i in range(pasos, len(datos)):\n",
    "        X.append(datos[i-pasos:i, 0])\n",
    "        y.append(datos[i, 0])\n",
    "    return np.array(X), np.array(y)\n",
    "\n",
    "pasos = 24  # predicción con ventana de 24 horas\n",
    "X, y = crear_secuencias(scaled_data, pasos)\n",
    "X = X.reshape((X.shape[0], X.shape[1], 1))"
   ]
  },
  {
   "cell_type": "markdown",
   "id": "50020962",
   "metadata": {},
   "source": [
    "## 🧠 Paso 5: Construir y entrenar el modelo LSTM"
   ]
  },
  {
   "cell_type": "code",
   "execution_count": null,
   "id": "7dba5b35",
   "metadata": {},
   "outputs": [],
   "source": [
    "# Dividir entrenamiento y prueba\n",
    "split = int(len(X) * 0.8)\n",
    "X_train, X_test = X[:split], X[split:]\n",
    "y_train, y_test = y[:split], y[split:]\n",
    "\n",
    "# Definir modelo LSTM\n",
    "model = Sequential()\n",
    "model.add(LSTM(50, activation='relu', input_shape=(pasos, 1)))\n",
    "model.add(Dense(1))\n",
    "model.compile(optimizer='adam', loss='mse')\n",
    "\n",
    "# Entrenamiento\n",
    "es = EarlyStopping(patience=10, restore_best_weights=True)\n",
    "history = model.fit(X_train, y_train, epochs=50, validation_split=0.2, callbacks=[es], verbose=0)"
   ]
  },
  {
   "cell_type": "markdown",
   "id": "a76db620",
   "metadata": {},
   "source": [
    "## 📈 Paso 6: Visualizar predicciones"
   ]
  },
  {
   "cell_type": "code",
   "execution_count": null,
   "id": "8e22bb5a",
   "metadata": {},
   "outputs": [],
   "source": [
    "# Predicción\n",
    "y_pred = model.predict(X_test)\n",
    "y_pred_inv = scaler.inverse_transform(y_pred.reshape(-1, 1))\n",
    "y_test_inv = scaler.inverse_transform(y_test.reshape(-1, 1))\n",
    "\n",
    "# Graficar\n",
    "plt.figure(figsize=(12,5))\n",
    "plt.plot(y_test_inv, label='Real')\n",
    "plt.plot(y_pred_inv, label='Predicción')\n",
    "plt.title('Predicción de tráfico (últimos datos)')\n",
    "plt.xlabel('Horas')\n",
    "plt.ylabel('Conteo de vehículos')\n",
    "plt.legend()\n",
    "plt.grid(True)\n",
    "plt.tight_layout()\n",
    "plt.show()"
   ]
  }
 ],
 "metadata": {},
 "nbformat": 4,
 "nbformat_minor": 5
}
